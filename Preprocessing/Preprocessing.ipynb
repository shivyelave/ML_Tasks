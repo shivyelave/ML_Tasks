{
 "cells": [
  {
   "cell_type": "markdown",
   "metadata": {},
   "source": [
    "'''\n",
    "\n",
    "\n",
    "    @Author: Shivraj Yelave\n",
    "    @Date: 27-09-24\n",
    "    @Last modified by: Shivraj Yelave\n",
    "    @Last modified time: \n",
    "    @Title: Proprecessing Techniques\n",
    "\n",
    "\n",
    "'''"
   ]
  },
  {
   "cell_type": "markdown",
   "metadata": {},
   "source": [
    "### Importing Libraries\n"
   ]
  },
  {
   "cell_type": "code",
   "execution_count": 27,
   "metadata": {},
   "outputs": [],
   "source": [
    "import numpy as np\n",
    "import pandas as pd\n",
    "import statistics as st\n",
    "from sklearn.preprocessing import OneHotEncoder,StandardScaler,LabelEncoder\n",
    "from sklearn.model_selection import  train_test_split\n",
    "from sklearn.compose import ColumnTransformer\n",
    "import matplotlib.pyplot as plt\n",
    "import matplotlib.pyplot as plt\n",
    "from sklearn.preprocessing import MinMaxScaler"
   ]
  },
  {
   "cell_type": "markdown",
   "metadata": {},
   "source": [
    "### Load Dataset"
   ]
  },
  {
   "cell_type": "code",
   "execution_count": 57,
   "metadata": {},
   "outputs": [
    {
     "data": {
      "text/html": [
       "<div>\n",
       "<style scoped>\n",
       "    .dataframe tbody tr th:only-of-type {\n",
       "        vertical-align: middle;\n",
       "    }\n",
       "\n",
       "    .dataframe tbody tr th {\n",
       "        vertical-align: top;\n",
       "    }\n",
       "\n",
       "    .dataframe thead th {\n",
       "        text-align: right;\n",
       "    }\n",
       "</style>\n",
       "<table border=\"1\" class=\"dataframe\">\n",
       "  <thead>\n",
       "    <tr style=\"text-align: right;\">\n",
       "      <th></th>\n",
       "      <th>Country</th>\n",
       "      <th>Age</th>\n",
       "      <th>Salary</th>\n",
       "      <th>Purchased</th>\n",
       "    </tr>\n",
       "  </thead>\n",
       "  <tbody>\n",
       "    <tr>\n",
       "      <th>0</th>\n",
       "      <td>France</td>\n",
       "      <td>44.0</td>\n",
       "      <td>72000.0</td>\n",
       "      <td>No</td>\n",
       "    </tr>\n",
       "    <tr>\n",
       "      <th>1</th>\n",
       "      <td>Spain</td>\n",
       "      <td>27.0</td>\n",
       "      <td>48000.0</td>\n",
       "      <td>Yes</td>\n",
       "    </tr>\n",
       "    <tr>\n",
       "      <th>2</th>\n",
       "      <td>Germany</td>\n",
       "      <td>30.0</td>\n",
       "      <td>54000.0</td>\n",
       "      <td>No</td>\n",
       "    </tr>\n",
       "    <tr>\n",
       "      <th>3</th>\n",
       "      <td>Spain</td>\n",
       "      <td>38.0</td>\n",
       "      <td>61000.0</td>\n",
       "      <td>No</td>\n",
       "    </tr>\n",
       "    <tr>\n",
       "      <th>4</th>\n",
       "      <td>Germany</td>\n",
       "      <td>40.0</td>\n",
       "      <td>NaN</td>\n",
       "      <td>Yes</td>\n",
       "    </tr>\n",
       "    <tr>\n",
       "      <th>5</th>\n",
       "      <td>France</td>\n",
       "      <td>35.0</td>\n",
       "      <td>58000.0</td>\n",
       "      <td>Yes</td>\n",
       "    </tr>\n",
       "    <tr>\n",
       "      <th>6</th>\n",
       "      <td>Spain</td>\n",
       "      <td>NaN</td>\n",
       "      <td>52000.0</td>\n",
       "      <td>No</td>\n",
       "    </tr>\n",
       "    <tr>\n",
       "      <th>7</th>\n",
       "      <td>France</td>\n",
       "      <td>48.0</td>\n",
       "      <td>79000.0</td>\n",
       "      <td>Yes</td>\n",
       "    </tr>\n",
       "    <tr>\n",
       "      <th>8</th>\n",
       "      <td>Germany</td>\n",
       "      <td>50.0</td>\n",
       "      <td>83000.0</td>\n",
       "      <td>No</td>\n",
       "    </tr>\n",
       "    <tr>\n",
       "      <th>9</th>\n",
       "      <td>France</td>\n",
       "      <td>37.0</td>\n",
       "      <td>67000.0</td>\n",
       "      <td>Yes</td>\n",
       "    </tr>\n",
       "  </tbody>\n",
       "</table>\n",
       "</div>"
      ],
      "text/plain": [
       "   Country   Age   Salary Purchased\n",
       "0   France  44.0  72000.0        No\n",
       "1    Spain  27.0  48000.0       Yes\n",
       "2  Germany  30.0  54000.0        No\n",
       "3    Spain  38.0  61000.0        No\n",
       "4  Germany  40.0      NaN       Yes\n",
       "5   France  35.0  58000.0       Yes\n",
       "6    Spain   NaN  52000.0        No\n",
       "7   France  48.0  79000.0       Yes\n",
       "8  Germany  50.0  83000.0        No\n",
       "9   France  37.0  67000.0       Yes"
      ]
     },
     "execution_count": 57,
     "metadata": {},
     "output_type": "execute_result"
    }
   ],
   "source": [
    "df = pd.read_csv('data_preprocessing.csv')\n",
    "df"
   ]
  },
  {
   "cell_type": "markdown",
   "metadata": {},
   "source": [
    "### 5 number summery"
   ]
  },
  {
   "cell_type": "code",
   "execution_count": 58,
   "metadata": {},
   "outputs": [
    {
     "name": "stdout",
     "output_type": "stream",
     "text": [
      "             Age        Salary\n",
      "count   9.000000      9.000000\n",
      "mean   38.777778  63777.777778\n",
      "std     7.693793  12265.579662\n",
      "min    27.000000  48000.000000\n",
      "25%    35.000000  54000.000000\n",
      "50%    38.000000  61000.000000\n",
      "75%    44.000000  72000.000000\n",
      "max    50.000000  83000.000000\n",
      "Median Age: 39.0\n",
      "Mode Age: 44.0\n"
     ]
    }
   ],
   "source": [
    "print(df.describe())\n",
    "print(\"Median Age:\", st.median(df['Age']))\n",
    "print(\"Mode Age:\", st.mode(df['Age']))"
   ]
  },
  {
   "cell_type": "markdown",
   "metadata": {},
   "source": [
    "### Null values"
   ]
  },
  {
   "cell_type": "code",
   "execution_count": 59,
   "metadata": {},
   "outputs": [
    {
     "name": "stdout",
     "output_type": "stream",
     "text": [
      "Country      0\n",
      "Age          1\n",
      "Salary       1\n",
      "Purchased    0\n",
      "dtype: int64\n"
     ]
    }
   ],
   "source": [
    "null_counts = df.isnull().sum()\n",
    "print(null_counts)\n"
   ]
  },
  {
   "cell_type": "markdown",
   "metadata": {},
   "source": [
    "### Visualize Using graphs\n"
   ]
  },
  {
   "cell_type": "code",
   "execution_count": 60,
   "metadata": {},
   "outputs": [
    {
     "data": {
      "image/png": "[encoded data removed]",
      "text/plain": [
       "<Figure size 1000x800 with 4 Axes>"
      ]
     },
     "metadata": {},
     "output_type": "display_data"
    }
   ],
   "source": [
    "# Create subplots\n",
    "fig, axs = plt.subplots(2, 2, figsize=(10, 8))  # 2 rows, 2 columns\n",
    "\n",
    "# Bar plot for average salary by country\n",
    "average_salary = df.groupby('Country')['Salary'].mean()\n",
    "axs[0, 0].bar(average_salary.index, average_salary.values, color='skyblue')\n",
    "axs[0, 0].set_title('Average Salary by Country')\n",
    "axs[0, 0].set_xlabel('Country')\n",
    "axs[0, 0].set_ylabel('Average Salary')\n",
    "\n",
    "# Pie chart for distribution of purchases\n",
    "purchase_counts = df['Purchased'].value_counts()\n",
    "axs[0, 1].pie(purchase_counts, labels=purchase_counts.index,explode = [0,0.1], autopct='%1.1f%%', startangle=90)\n",
    "axs[0, 1].axis('equal')  # Equal aspect ratio ensures that pie is drawn as a circle\n",
    "axs[0, 1].set_title('Purchase Distribution')\n",
    "\n",
    "# Bar plot for average age by country\n",
    "average_age = df.groupby('Country')['Age'].mean()\n",
    "axs[1, 0].bar(average_age.index, average_age.values, color='lightgreen')\n",
    "axs[1, 0].set_title('Average Age by Country')\n",
    "axs[1, 0].set_xlabel('Country')\n",
    "axs[1, 0].set_ylabel('Average Age')\n",
    "\n",
    "# Pie chart for age group distribution\n",
    "age_bins = [20, 30, 40, 50, 60]\n",
    "age_labels = ['20-30', '30-40', '40-50', '50-60']\n",
    "df['Age Group'] = pd.cut(df['Age'], bins=age_bins, labels=age_labels, right=False)\n",
    "age_group_counts = df['Age Group'].value_counts()\n",
    "axs[1, 1].pie(age_group_counts, labels=age_group_counts.index, autopct='%1.1f%%', startangle=90)\n",
    "axs[1, 1].axis('equal')\n",
    "axs[1, 1].set_title('Age Group Distribution')\n",
    "\n",
    "# Adjust layout\n",
    "plt.tight_layout()\n",
    "plt.show()"
   ]
  },
  {
   "cell_type": "markdown",
   "metadata": {},
   "source": [
    "## a. Handling Missing data\n",
    "### 1. Removing Missing Data\n",
    "<b>Drop Rows:</b> If the number of missing values is small and not critical, you can simply remove the rows with missing data.\n",
    "### 2. Imputation \n",
    "<b>a)  Mean/Median/Mode Imputation:</b> Fill missing values with the mean, median, or mode of the respective column.<br>\n",
    "<b>b)  Constant Value Imputation:</b> Fill missing values with a specific constant value (e.g., 0, \"Unknown\").\n",
    "### 3. Interpolation\n",
    "<b>a)  Linear Interpolation:</b> This method estimates missing values based on the values before and after the missing data points.<br>\n",
    "<b>b)  Time-based Interpolation: </b>For time series data, you can use methods like forward fill or backward fill."
   ]
  },
  {
   "cell_type": "code",
   "execution_count": 29,
   "metadata": {},
   "outputs": [
    {
     "data": {
      "text/html": [
       "<div>\n",
       "<style scoped>\n",
       "    .dataframe tbody tr th:only-of-type {\n",
       "        vertical-align: middle;\n",
       "    }\n",
       "\n",
       "    .dataframe tbody tr th {\n",
       "        vertical-align: top;\n",
       "    }\n",
       "\n",
       "    .dataframe thead th {\n",
       "        text-align: right;\n",
       "    }\n",
       "</style>\n",
       "<table border=\"1\" class=\"dataframe\">\n",
       "  <thead>\n",
       "    <tr style=\"text-align: right;\">\n",
       "      <th></th>\n",
       "      <th>Country</th>\n",
       "      <th>Age</th>\n",
       "      <th>Salary</th>\n",
       "      <th>Purchased</th>\n",
       "    </tr>\n",
       "  </thead>\n",
       "  <tbody>\n",
       "    <tr>\n",
       "      <th>0</th>\n",
       "      <td>France</td>\n",
       "      <td>44.000000</td>\n",
       "      <td>72000.0</td>\n",
       "      <td>No</td>\n",
       "    </tr>\n",
       "    <tr>\n",
       "      <th>1</th>\n",
       "      <td>Spain</td>\n",
       "      <td>27.000000</td>\n",
       "      <td>48000.0</td>\n",
       "      <td>Yes</td>\n",
       "    </tr>\n",
       "    <tr>\n",
       "      <th>2</th>\n",
       "      <td>Germany</td>\n",
       "      <td>30.000000</td>\n",
       "      <td>54000.0</td>\n",
       "      <td>No</td>\n",
       "    </tr>\n",
       "    <tr>\n",
       "      <th>3</th>\n",
       "      <td>Spain</td>\n",
       "      <td>38.000000</td>\n",
       "      <td>61000.0</td>\n",
       "      <td>No</td>\n",
       "    </tr>\n",
       "    <tr>\n",
       "      <th>4</th>\n",
       "      <td>Germany</td>\n",
       "      <td>40.000000</td>\n",
       "      <td>61000.0</td>\n",
       "      <td>Yes</td>\n",
       "    </tr>\n",
       "    <tr>\n",
       "      <th>5</th>\n",
       "      <td>France</td>\n",
       "      <td>35.000000</td>\n",
       "      <td>58000.0</td>\n",
       "      <td>Yes</td>\n",
       "    </tr>\n",
       "    <tr>\n",
       "      <th>6</th>\n",
       "      <td>Spain</td>\n",
       "      <td>38.777778</td>\n",
       "      <td>52000.0</td>\n",
       "      <td>No</td>\n",
       "    </tr>\n",
       "    <tr>\n",
       "      <th>7</th>\n",
       "      <td>France</td>\n",
       "      <td>48.000000</td>\n",
       "      <td>79000.0</td>\n",
       "      <td>Yes</td>\n",
       "    </tr>\n",
       "    <tr>\n",
       "      <th>8</th>\n",
       "      <td>Germany</td>\n",
       "      <td>50.000000</td>\n",
       "      <td>83000.0</td>\n",
       "      <td>No</td>\n",
       "    </tr>\n",
       "    <tr>\n",
       "      <th>9</th>\n",
       "      <td>France</td>\n",
       "      <td>37.000000</td>\n",
       "      <td>67000.0</td>\n",
       "      <td>Yes</td>\n",
       "    </tr>\n",
       "  </tbody>\n",
       "</table>\n",
       "</div>"
      ],
      "text/plain": [
       "   Country        Age   Salary Purchased\n",
       "0   France  44.000000  72000.0        No\n",
       "1    Spain  27.000000  48000.0       Yes\n",
       "2  Germany  30.000000  54000.0        No\n",
       "3    Spain  38.000000  61000.0        No\n",
       "4  Germany  40.000000  61000.0       Yes\n",
       "5   France  35.000000  58000.0       Yes\n",
       "6    Spain  38.777778  52000.0        No\n",
       "7   France  48.000000  79000.0       Yes\n",
       "8  Germany  50.000000  83000.0        No\n",
       "9   France  37.000000  67000.0       Yes"
      ]
     },
     "execution_count": 29,
     "metadata": {},
     "output_type": "execute_result"
    }
   ],
   "source": [
    "df['Age'].fillna(df['Age'].mean(),inplace=True)\n",
    "df['Salary'].fillna(df['Salary'].median(),inplace=True)\n",
    "df"
   ]
  },
  {
   "cell_type": "code",
   "execution_count": 6,
   "metadata": {},
   "outputs": [
    {
     "name": "stdout",
     "output_type": "stream",
     "text": [
      "Country      0\n",
      "Age          0\n",
      "Salary       0\n",
      "Purchased    0\n",
      "dtype: int64\n"
     ]
    }
   ],
   "source": [
    "null_counts = df.isnull().sum()\n",
    "print(null_counts)\n"
   ]
  },
  {
   "cell_type": "markdown",
   "metadata": {},
   "source": [
    "## b. Handling Categorical data\n",
    "### 1. Encoding Categorical Variables\n",
    "<b>a)   Label Encoding:</b>Converts each category into a unique integer. This is useful for ordinal data where the order matters.<br>\n",
    "<b>b)   One-Hot Encoding:</b>Converts categorical variables into binary vectors. Each category becomes a new column with 1s and 0s indicating the presence of each category(get_dummies).<br>\n",
    "### 2. Using Scikit-Learn’s ColumnTransformer\n",
    "You can automate preprocessing for different types of features using ColumnTransformer, which applies different transformations to specific columns."
   ]
  },
  {
   "cell_type": "code",
   "execution_count": 19,
   "metadata": {},
   "outputs": [
    {
     "name": "stdout",
     "output_type": "stream",
     "text": [
      "Transformed shape: (10, 7)\n",
      "Number of feature names: 7\n",
      "   Country_France  Country_Germany  Country_Spain  Purchased_No  \\\n",
      "0             1.0              0.0            0.0           1.0   \n",
      "1             0.0              0.0            1.0           0.0   \n",
      "2             0.0              1.0            0.0           1.0   \n",
      "3             0.0              0.0            1.0           1.0   \n",
      "4             0.0              1.0            0.0           0.0   \n",
      "5             1.0              0.0            0.0           0.0   \n",
      "6             0.0              0.0            1.0           1.0   \n",
      "7             1.0              0.0            0.0           0.0   \n",
      "8             0.0              1.0            0.0           1.0   \n",
      "9             1.0              0.0            0.0           0.0   \n",
      "\n",
      "   Purchased_Yes        Age   Salary  \n",
      "0            0.0  44.000000  72000.0  \n",
      "1            1.0  27.000000  48000.0  \n",
      "2            0.0  30.000000  54000.0  \n",
      "3            0.0  38.000000  61000.0  \n",
      "4            1.0  40.000000  61000.0  \n",
      "5            1.0  35.000000  58000.0  \n",
      "6            0.0  38.777778  52000.0  \n",
      "7            1.0  48.000000  79000.0  \n",
      "8            0.0  50.000000  83000.0  \n",
      "9            1.0  37.000000  67000.0  \n"
     ]
    }
   ],
   "source": [
    "ct = ColumnTransformer(\n",
    "    transformers=[\n",
    "        ('country_encoder', OneHotEncoder(), ['Country']),\n",
    "        ('Purchased_encoder', OneHotEncoder(), ['Purchased'])\n",
    "    ],\n",
    "    remainder='passthrough'  # This keeps the other columns unchanged\n",
    ")\n",
    "\n",
    "# Fit and transform the data\n",
    "transformed = ct.fit_transform(df)\n",
    "\n",
    "# Get feature names\n",
    "country_names = ct.named_transformers_['country_encoder'].get_feature_names_out(['Country'])\n",
    "purchased_names = ct.named_transformers_['Purchased_encoder'].get_feature_names_out(['Purchased'])\n",
    "\n",
    "# Combine feature names with unchanged columns\n",
    "all_feature_names = list(country_names) + list(purchased_names) + ['Age', 'Salary']\n",
    "\n",
    "# Check shapes for debugging\n",
    "print(f\"Transformed shape: {transformed.shape}\")  # Should print (10, 5)\n",
    "print(f\"Number of feature names: {len(all_feature_names)}\")  # Should print 5\n",
    "\n",
    "# Create a new DataFrame with transformed data\n",
    "transformed_df = pd.DataFrame(transformed, columns=all_feature_names)\n",
    "\n",
    "print(transformed_df)"
   ]
  },
  {
   "cell_type": "code",
   "execution_count": 34,
   "metadata": {},
   "outputs": [
    {
     "data": {
      "text/html": [
       "<div>\n",
       "<style scoped>\n",
       "    .dataframe tbody tr th:only-of-type {\n",
       "        vertical-align: middle;\n",
       "    }\n",
       "\n",
       "    .dataframe tbody tr th {\n",
       "        vertical-align: top;\n",
       "    }\n",
       "\n",
       "    .dataframe thead th {\n",
       "        text-align: right;\n",
       "    }\n",
       "</style>\n",
       "<table border=\"1\" class=\"dataframe\">\n",
       "  <thead>\n",
       "    <tr style=\"text-align: right;\">\n",
       "      <th></th>\n",
       "      <th>Age</th>\n",
       "      <th>Salary</th>\n",
       "      <th>Country_Encoded</th>\n",
       "      <th>Purchased_Encoded</th>\n",
       "    </tr>\n",
       "  </thead>\n",
       "  <tbody>\n",
       "    <tr>\n",
       "      <th>0</th>\n",
       "      <td>44.000000</td>\n",
       "      <td>72000.0</td>\n",
       "      <td>0</td>\n",
       "      <td>0</td>\n",
       "    </tr>\n",
       "    <tr>\n",
       "      <th>1</th>\n",
       "      <td>27.000000</td>\n",
       "      <td>48000.0</td>\n",
       "      <td>2</td>\n",
       "      <td>1</td>\n",
       "    </tr>\n",
       "    <tr>\n",
       "      <th>2</th>\n",
       "      <td>30.000000</td>\n",
       "      <td>54000.0</td>\n",
       "      <td>1</td>\n",
       "      <td>0</td>\n",
       "    </tr>\n",
       "    <tr>\n",
       "      <th>3</th>\n",
       "      <td>38.000000</td>\n",
       "      <td>61000.0</td>\n",
       "      <td>2</td>\n",
       "      <td>0</td>\n",
       "    </tr>\n",
       "    <tr>\n",
       "      <th>4</th>\n",
       "      <td>40.000000</td>\n",
       "      <td>61000.0</td>\n",
       "      <td>1</td>\n",
       "      <td>1</td>\n",
       "    </tr>\n",
       "    <tr>\n",
       "      <th>5</th>\n",
       "      <td>35.000000</td>\n",
       "      <td>58000.0</td>\n",
       "      <td>0</td>\n",
       "      <td>1</td>\n",
       "    </tr>\n",
       "    <tr>\n",
       "      <th>6</th>\n",
       "      <td>38.777778</td>\n",
       "      <td>52000.0</td>\n",
       "      <td>2</td>\n",
       "      <td>0</td>\n",
       "    </tr>\n",
       "    <tr>\n",
       "      <th>7</th>\n",
       "      <td>48.000000</td>\n",
       "      <td>79000.0</td>\n",
       "      <td>0</td>\n",
       "      <td>1</td>\n",
       "    </tr>\n",
       "    <tr>\n",
       "      <th>8</th>\n",
       "      <td>50.000000</td>\n",
       "      <td>83000.0</td>\n",
       "      <td>1</td>\n",
       "      <td>0</td>\n",
       "    </tr>\n",
       "    <tr>\n",
       "      <th>9</th>\n",
       "      <td>37.000000</td>\n",
       "      <td>67000.0</td>\n",
       "      <td>0</td>\n",
       "      <td>1</td>\n",
       "    </tr>\n",
       "  </tbody>\n",
       "</table>\n",
       "</div>"
      ],
      "text/plain": [
       "         Age   Salary  Country_Encoded  Purchased_Encoded\n",
       "0  44.000000  72000.0                0                  0\n",
       "1  27.000000  48000.0                2                  1\n",
       "2  30.000000  54000.0                1                  0\n",
       "3  38.000000  61000.0                2                  0\n",
       "4  40.000000  61000.0                1                  1\n",
       "5  35.000000  58000.0                0                  1\n",
       "6  38.777778  52000.0                2                  0\n",
       "7  48.000000  79000.0                0                  1\n",
       "8  50.000000  83000.0                1                  0\n",
       "9  37.000000  67000.0                0                  1"
      ]
     },
     "execution_count": 34,
     "metadata": {},
     "output_type": "execute_result"
    }
   ],
   "source": [
    "## Using LabelEncoder\n",
    "label_encoder = LabelEncoder()\n",
    "\n",
    "transform = label_encoder.fit_transform(df['Country'])\n",
    "transform_df = pd.DataFrame(transform, columns=['Country_Encoded'])\n",
    "\n",
    "transform1 = label_encoder.fit_transform(df['Purchased'])\n",
    "transform_df1 = pd.DataFrame(transform1, columns=['Purchased_Encoded'])\n",
    "\n",
    "# Combine with the original DataFrame if necessary\n",
    "df_transformed = pd.concat([df, transform_df,transform_df1], axis=1)\n",
    "df_transformed.drop(['Country','Purchased'],axis=1,inplace=True)\n",
    "df_transformed"
   ]
  },
  {
   "cell_type": "markdown",
   "metadata": {},
   "source": [
    "### ploting basic graphs"
   ]
  },
  {
   "cell_type": "markdown",
   "metadata": {},
   "source": [
    "## c. Split the dataset into training set and test set"
   ]
  },
  {
   "cell_type": "code",
   "execution_count": 36,
   "metadata": {},
   "outputs": [
    {
     "name": "stdout",
     "output_type": "stream",
     "text": [
      "Training set (X_train):\n",
      "   Country_Encoded        Age   Salary\n",
      "5                0  35.000000  58000.0\n",
      "0                0  44.000000  72000.0\n",
      "7                0  48.000000  79000.0\n",
      "2                1  30.000000  54000.0\n",
      "9                0  37.000000  67000.0\n",
      "4                1  40.000000  61000.0\n",
      "3                2  38.000000  61000.0\n",
      "6                2  38.777778  52000.0\n",
      "\n",
      "Test set (X_test):\n",
      "   Country_Encoded   Age   Salary\n",
      "8                1  50.0  83000.0\n",
      "1                2  27.0  48000.0\n",
      "\n",
      "Training labels (y_train):\n",
      "5    1\n",
      "0    0\n",
      "7    1\n",
      "2    0\n",
      "9    1\n",
      "4    1\n",
      "3    0\n",
      "6    0\n",
      "Name: Purchased_Encoded, dtype: int32\n",
      "\n",
      "Test labels (y_test):\n",
      "8    0\n",
      "1    1\n",
      "Name: Purchased_Encoded, dtype: int32\n"
     ]
    }
   ],
   "source": [
    "# Features (X) and target (y)\n",
    "X = df_transformed[['Country_Encoded', 'Age', 'Salary']]  # Independent variables (features)\n",
    "y = df_transformed['Purchased_Encoded']                   # Dependent variable (target)\n",
    "\n",
    "# Splitting the dataset into training and test sets\n",
    "# 80% training, 20% test\n",
    "X_train, X_test, y_train, y_test = train_test_split(X, y, test_size=0.2, random_state=42)\n",
    "\n",
    "# Output to verify the splits\n",
    "print(\"Training set (X_train):\")\n",
    "print(X_train)\n",
    "print(\"\\nTest set (X_test):\")\n",
    "print(X_test)\n",
    "\n",
    "print(\"\\nTraining labels (y_train):\")\n",
    "print(y_train)\n",
    "print(\"\\nTest labels (y_test):\")\n",
    "print(y_test)"
   ]
  },
  {
   "cell_type": "markdown",
   "metadata": {},
   "source": [
    "## d. Feature scaling\n",
    "Feature scaling is an essential step in data preprocessing, especially for machine learning algorithms. It helps normalize the range of independent variables or features of the data, ensuring that they are on a similar scale. This can improve the performance of machine learning models, especially those based on distance metrics, such as K-Nearest Neighbors (KNN), Support Vector Machines (SVM), and Gradient Descent-based models (e.g., linear logistic regression, neural networks).<br>\n",
    "\n",
    "<b>a)  Min-Max Scaling (Normalization):</b>Transforms features to a fixed range, typically [0, 1].<br>\n",
    "<b>b)  Standardization (Z-score normalization):</b>Transforms features so that they have a mean of 0 and a standard deviation of 1.<br>\n",
    "<b>c)  Robust Scaling:</b>Similar to standardization but uses the median and interquartile range (IQR) instead of mean and standard deviation, which makes it more robust to outliers."
   ]
  },
  {
   "cell_type": "code",
   "execution_count": 55,
   "metadata": {},
   "outputs": [
    {
     "name": "stdout",
     "output_type": "stream",
     "text": [
      "[[-0.90453403 -0.7529426  -0.58321184]\n",
      " [-0.90453403  1.00845381  1.04978132]\n",
      " [-0.90453403  1.79129666  1.8662779 ]\n",
      " [ 0.30151134 -1.73149616 -1.04978132]\n",
      " [-0.90453403 -0.36152118  0.46656947]\n",
      " [ 0.30151134  0.22561096 -0.23328474]\n",
      " [ 1.50755672 -0.16581046 -0.23328474]\n",
      " [ 1.50755672 -0.01359102 -1.28306606]]\n",
      "[[ 0.30151134  2.18271808  2.33284737]\n",
      " [ 1.50755672 -2.3186283  -1.74963553]]\n"
     ]
    }
   ],
   "source": [
    "stsc = StandardScaler()\n",
    "X_train_scaled = stsc.fit_transform(X_train)\n",
    "X_test_scaled = stsc.fittransform(X_test)  # Use 'transform' instead of 'fit_transform' for test data\n",
    "print(X_train_scaled)\n",
    "print(X_test_scaled)"
   ]
  },
  {
   "cell_type": "code",
   "execution_count": 61,
   "metadata": {},
   "outputs": [
    {
     "name": "stdout",
     "output_type": "stream",
     "text": [
      "[[0.         0.27777778 0.22222222]\n",
      " [0.         0.77777778 0.74074074]\n",
      " [0.         1.         1.        ]\n",
      " [0.5        0.         0.07407407]\n",
      " [0.         0.38888889 0.55555556]\n",
      " [0.5        0.55555556 0.33333333]\n",
      " [1.         0.44444444 0.33333333]\n",
      " [1.         0.48765432 0.        ]]\n",
      "[[0. 1. 1.]\n",
      " [1. 0. 0.]]\n"
     ]
    }
   ],
   "source": [
    "mima = MinMaxScaler()\n",
    "stsc = StandardScaler()\n",
    "X_train_scaled = mima.fit_transform(X_train)\n",
    "X_test_scaled = mima.fit_transform(X_test)\n",
    "print(X_train_scaled)\n",
    "print(X_test_scaled)\n"
   ]
  }
 ],
 "metadata": {
  "kernelspec": {
   "display_name": "Python 3",
   "language": "python",
   "name": "python3"
  },
  "language_info": {
   "codemirror_mode": {
    "name": "ipython",
    "version": 3
   },
   "file_extension": ".py",
   "mimetype": "text/x-python",
   "name": "python",
   "nbconvert_exporter": "python",
   "pygments_lexer": "ipython3",
   "version": "3.8.10"
  }
 },
 "nbformat": 4,
 "nbformat_minor": 2
}
